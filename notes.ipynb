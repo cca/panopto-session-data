{
 "cells": [
  {
   "cell_type": "markdown",
   "metadata": {},
   "source": [
    "# Panopto Data Analysis\n",
    "\n",
    "Panopto gives us \"Stream Source\" in their \"Sessions created or edited\" report, but usage data (including date last viewed) are in the Session usage report. Below, I use the pandas data manipulation library to stitch together these two data sources and compile some statistics."
   ]
  },
  {
   "cell_type": "code",
   "execution_count": 11,
   "metadata": {},
   "outputs": [],
   "source": [
    "import numpy as np\n",
    "import pandas as pd\n",
    "\n",
    "sessions_file = 'sessionscreatedoredited_2020-08-08--2022-06-01.csv'\n",
    "usage_file = 'sessionusage_2020-08-08--2022-06-01.csv'\n",
    "sessions = pd.read_csv(sessions_file, low_memory=False).set_index('Session ID')\n",
    "usage = pd.read_csv(usage_file, low_memory=False).set_index('Session ID')\n",
    "# trim redundant columns from usage so we can cleanly join them\n",
    "usage = usage.drop([c for c in sessions.columns if c in usage.columns], axis='columns')\n",
    "# convert most recent view to datetime\n",
    "usage['Most Recent View Date'] = pd.to_datetime(usage['Most Recent View Date'])\n",
    "data = sessions.join(usage)"
   ]
  },
  {
   "cell_type": "code",
   "execution_count": 27,
   "metadata": {},
   "outputs": [
    {
     "name": "stdout",
     "output_type": "stream",
     "text": [
      "Total Panopto stored hours: 19627.13\n"
     ]
    }
   ],
   "source": [
    "# derivative columns\n",
    "data['hours'] = data['Session Length'] / 60\n",
    "# @TODO a \"lowest-level folder\" of sorts might be useful but complicated to code\n",
    "data['folder path'] = '/' + data['Root Folder (Level 0)'] + '/' + data['Subfolder (Level 1)'].astype(str) + '/' + data['Subfolder (Level 2)'].astype(str) + '/' + data['Subfolder (Level 3)'].astype(str) + '/' + data['Subfolder (Level 4)'].astype(str)\n",
    "\n",
    "print('Total Panopto stored hours:', round(data['hours'].sum(), 2))"
   ]
  },
  {
   "cell_type": "markdown",
   "metadata": {},
   "source": [
    "### Unwatched Hours by Source"
   ]
  },
  {
   "cell_type": "code",
   "execution_count": 20,
   "metadata": {},
   "outputs": [
    {
     "name": "stdout",
     "output_type": "stream",
     "text": [
      "Unwatched Hours\n"
     ]
    },
    {
     "data": {
      "text/html": [
       "<div>\n",
       "<style scoped>\n",
       "    .dataframe tbody tr th:only-of-type {\n",
       "        vertical-align: middle;\n",
       "    }\n",
       "\n",
       "    .dataframe tbody tr th {\n",
       "        vertical-align: top;\n",
       "    }\n",
       "\n",
       "    .dataframe thead th {\n",
       "        text-align: right;\n",
       "    }\n",
       "</style>\n",
       "<table border=\"1\" class=\"dataframe\">\n",
       "  <thead>\n",
       "    <tr style=\"text-align: right;\">\n",
       "      <th></th>\n",
       "      <th>hours</th>\n",
       "    </tr>\n",
       "    <tr>\n",
       "      <th>Stream Source</th>\n",
       "      <th></th>\n",
       "    </tr>\n",
       "  </thead>\n",
       "  <tbody>\n",
       "    <tr>\n",
       "      <th>Zoom</th>\n",
       "      <td>13313.311031</td>\n",
       "    </tr>\n",
       "    <tr>\n",
       "      <th>Web API</th>\n",
       "      <td>513.479401</td>\n",
       "    </tr>\n",
       "    <tr>\n",
       "      <th>Panopto for Mac</th>\n",
       "      <td>15.085160</td>\n",
       "    </tr>\n",
       "    <tr>\n",
       "      <th>Panopto Capture</th>\n",
       "      <td>5.897811</td>\n",
       "    </tr>\n",
       "    <tr>\n",
       "      <th>Panopto for Windows</th>\n",
       "      <td>5.234186</td>\n",
       "    </tr>\n",
       "    <tr>\n",
       "      <th>iOS</th>\n",
       "      <td>1.794449</td>\n",
       "    </tr>\n",
       "    <tr>\n",
       "      <th>Mixed</th>\n",
       "      <td>1.686691</td>\n",
       "    </tr>\n",
       "    <tr>\n",
       "      <th>Android</th>\n",
       "      <td>0.252345</td>\n",
       "    </tr>\n",
       "    <tr>\n",
       "      <th>RTMP</th>\n",
       "      <td>0.000000</td>\n",
       "    </tr>\n",
       "    <tr>\n",
       "      <th>Unspecified</th>\n",
       "      <td>0.000000</td>\n",
       "    </tr>\n",
       "    <tr>\n",
       "      <th>Total</th>\n",
       "      <td>13856.741074</td>\n",
       "    </tr>\n",
       "  </tbody>\n",
       "</table>\n",
       "</div>"
      ],
      "text/plain": [
       "                            hours\n",
       "Stream Source                    \n",
       "Zoom                 13313.311031\n",
       "Web API                513.479401\n",
       "Panopto for Mac         15.085160\n",
       "Panopto Capture          5.897811\n",
       "Panopto for Windows      5.234186\n",
       "iOS                      1.794449\n",
       "Mixed                    1.686691\n",
       "Android                  0.252345\n",
       "RTMP                     0.000000\n",
       "Unspecified              0.000000\n",
       "Total                13856.741074"
      ]
     },
     "execution_count": 20,
     "metadata": {},
     "output_type": "execute_result"
    }
   ],
   "source": [
    "\n",
    "unwatched = data[data['Views and Downloads'].isnull()]\n",
    "table = unwatched[['Stream Source', 'hours']].groupby(['Stream Source']).sum().sort_values('hours', ascending=False)\n",
    "table.loc['Total'] = table.sum()\n",
    "table"
   ]
  },
  {
   "cell_type": "markdown",
   "metadata": {},
   "source": [
    "\"Web API\" refers to uploads via the website. See the list of \"Stream Source\" values on their reports documentation page: https://support.panopto.com/s/article/System-Usage-Report-Fields"
   ]
  },
  {
   "cell_type": "markdown",
   "metadata": {},
   "source": [
    "### Unwatched Hours By Root Folder"
   ]
  },
  {
   "cell_type": "code",
   "execution_count": 14,
   "metadata": {},
   "outputs": [
    {
     "data": {
      "text/html": [
       "<div>\n",
       "<style scoped>\n",
       "    .dataframe tbody tr th:only-of-type {\n",
       "        vertical-align: middle;\n",
       "    }\n",
       "\n",
       "    .dataframe tbody tr th {\n",
       "        vertical-align: top;\n",
       "    }\n",
       "\n",
       "    .dataframe thead th {\n",
       "        text-align: right;\n",
       "    }\n",
       "</style>\n",
       "<table border=\"1\" class=\"dataframe\">\n",
       "  <thead>\n",
       "    <tr style=\"text-align: right;\">\n",
       "      <th></th>\n",
       "      <th>hours</th>\n",
       "    </tr>\n",
       "    <tr>\n",
       "      <th>Root Folder (Level 0)</th>\n",
       "      <th></th>\n",
       "    </tr>\n",
       "  </thead>\n",
       "  <tbody>\n",
       "    <tr>\n",
       "      <th>Users</th>\n",
       "      <td>13155.459902</td>\n",
       "    </tr>\n",
       "    <tr>\n",
       "      <th>Moodle</th>\n",
       "      <td>682.489447</td>\n",
       "    </tr>\n",
       "    <tr>\n",
       "      <th>Libraries</th>\n",
       "      <td>16.602274</td>\n",
       "    </tr>\n",
       "    <tr>\n",
       "      <th>CCA Departments</th>\n",
       "      <td>1.927585</td>\n",
       "    </tr>\n",
       "    <tr>\n",
       "      <th>Tutorials</th>\n",
       "      <td>0.261867</td>\n",
       "    </tr>\n",
       "  </tbody>\n",
       "</table>\n",
       "</div>"
      ],
      "text/plain": [
       "                              hours\n",
       "Root Folder (Level 0)              \n",
       "Users                  13155.459902\n",
       "Moodle                   682.489447\n",
       "Libraries                 16.602274\n",
       "CCA Departments            1.927585\n",
       "Tutorials                  0.261867"
      ]
     },
     "execution_count": 14,
     "metadata": {},
     "output_type": "execute_result"
    }
   ],
   "source": [
    "unwatched[['Root Folder (Level 0)', 'hours']].groupby(['Root Folder (Level 0)']).sum().sort_values('hours', ascending=False)"
   ]
  },
  {
   "cell_type": "markdown",
   "metadata": {},
   "source": [
    "Most unwatched videos come from Zoom and are in User folders. There's still a significant amount of unwatched videos in the Moodle folder hierarchy, though (almost 700 hours)."
   ]
  },
  {
   "cell_type": "markdown",
   "metadata": {},
   "source": [
    "### Watched Hours by Source"
   ]
  },
  {
   "cell_type": "code",
   "execution_count": 19,
   "metadata": {},
   "outputs": [
    {
     "data": {
      "text/html": [
       "<div>\n",
       "<style scoped>\n",
       "    .dataframe tbody tr th:only-of-type {\n",
       "        vertical-align: middle;\n",
       "    }\n",
       "\n",
       "    .dataframe tbody tr th {\n",
       "        vertical-align: top;\n",
       "    }\n",
       "\n",
       "    .dataframe thead th {\n",
       "        text-align: right;\n",
       "    }\n",
       "</style>\n",
       "<table border=\"1\" class=\"dataframe\">\n",
       "  <thead>\n",
       "    <tr style=\"text-align: right;\">\n",
       "      <th></th>\n",
       "      <th>hours</th>\n",
       "    </tr>\n",
       "    <tr>\n",
       "      <th>Stream Source</th>\n",
       "      <th></th>\n",
       "    </tr>\n",
       "  </thead>\n",
       "  <tbody>\n",
       "    <tr>\n",
       "      <th>Zoom</th>\n",
       "      <td>2856.642399</td>\n",
       "    </tr>\n",
       "    <tr>\n",
       "      <th>Web API</th>\n",
       "      <td>2674.805607</td>\n",
       "    </tr>\n",
       "    <tr>\n",
       "      <th>Panopto for Mac</th>\n",
       "      <td>119.202422</td>\n",
       "    </tr>\n",
       "    <tr>\n",
       "      <th>Panopto for Windows</th>\n",
       "      <td>65.906672</td>\n",
       "    </tr>\n",
       "    <tr>\n",
       "      <th>Panopto Capture</th>\n",
       "      <td>42.912394</td>\n",
       "    </tr>\n",
       "    <tr>\n",
       "      <th>RTMP</th>\n",
       "      <td>4.475007</td>\n",
       "    </tr>\n",
       "    <tr>\n",
       "      <th>Mixed</th>\n",
       "      <td>3.557541</td>\n",
       "    </tr>\n",
       "    <tr>\n",
       "      <th>iOS</th>\n",
       "      <td>1.607316</td>\n",
       "    </tr>\n",
       "    <tr>\n",
       "      <th>Unspecified</th>\n",
       "      <td>1.119587</td>\n",
       "    </tr>\n",
       "    <tr>\n",
       "      <th>Android</th>\n",
       "      <td>0.161800</td>\n",
       "    </tr>\n",
       "    <tr>\n",
       "      <th>Total</th>\n",
       "      <td>5770.390745</td>\n",
       "    </tr>\n",
       "  </tbody>\n",
       "</table>\n",
       "</div>"
      ],
      "text/plain": [
       "                           hours\n",
       "Stream Source                   \n",
       "Zoom                 2856.642399\n",
       "Web API              2674.805607\n",
       "Panopto for Mac       119.202422\n",
       "Panopto for Windows    65.906672\n",
       "Panopto Capture        42.912394\n",
       "RTMP                    4.475007\n",
       "Mixed                   3.557541\n",
       "iOS                     1.607316\n",
       "Unspecified             1.119587\n",
       "Android                 0.161800\n",
       "Total                5770.390745"
      ]
     },
     "execution_count": 19,
     "metadata": {},
     "output_type": "execute_result"
    }
   ],
   "source": [
    "\n",
    "watched = data[data['Views and Downloads'] >= 1]\n",
    "table = watched[['Stream Source', 'hours']].groupby(['Stream Source']).sum().sort_values('hours', ascending=False)\n",
    "table.loc['Total'] = table.sum()\n",
    "print('Watched Hours by Source')\n",
    "table"
   ]
  },
  {
   "cell_type": "markdown",
   "metadata": {},
   "source": [
    "### Watched Hours by Root Folder"
   ]
  },
  {
   "cell_type": "code",
   "execution_count": 16,
   "metadata": {},
   "outputs": [
    {
     "data": {
      "text/html": [
       "<div>\n",
       "<style scoped>\n",
       "    .dataframe tbody tr th:only-of-type {\n",
       "        vertical-align: middle;\n",
       "    }\n",
       "\n",
       "    .dataframe tbody tr th {\n",
       "        vertical-align: top;\n",
       "    }\n",
       "\n",
       "    .dataframe thead th {\n",
       "        text-align: right;\n",
       "    }\n",
       "</style>\n",
       "<table border=\"1\" class=\"dataframe\">\n",
       "  <thead>\n",
       "    <tr style=\"text-align: right;\">\n",
       "      <th></th>\n",
       "      <th>hours</th>\n",
       "    </tr>\n",
       "    <tr>\n",
       "      <th>Root Folder (Level 0)</th>\n",
       "      <th></th>\n",
       "    </tr>\n",
       "  </thead>\n",
       "  <tbody>\n",
       "    <tr>\n",
       "      <th>Users</th>\n",
       "      <td>2786.452788</td>\n",
       "    </tr>\n",
       "    <tr>\n",
       "      <th>Moodle</th>\n",
       "      <td>2772.267913</td>\n",
       "    </tr>\n",
       "    <tr>\n",
       "      <th>Libraries</th>\n",
       "      <td>138.137575</td>\n",
       "    </tr>\n",
       "    <tr>\n",
       "      <th>CCA Departments</th>\n",
       "      <td>63.485569</td>\n",
       "    </tr>\n",
       "    <tr>\n",
       "      <th>Tutorials</th>\n",
       "      <td>6.471065</td>\n",
       "    </tr>\n",
       "    <tr>\n",
       "      <th>First Year Program</th>\n",
       "      <td>3.375854</td>\n",
       "    </tr>\n",
       "  </tbody>\n",
       "</table>\n",
       "</div>"
      ],
      "text/plain": [
       "                             hours\n",
       "Root Folder (Level 0)             \n",
       "Users                  2786.452788\n",
       "Moodle                 2772.267913\n",
       "Libraries               138.137575\n",
       "CCA Departments          63.485569\n",
       "Tutorials                 6.471065\n",
       "First Year Program        3.375854"
      ]
     },
     "execution_count": 16,
     "metadata": {},
     "output_type": "execute_result"
    }
   ],
   "source": [
    "watched[['Root Folder (Level 0)', 'hours']].groupby(['Root Folder (Level 0)']).sum().sort_values('hours', ascending=False)"
   ]
  },
  {
   "cell_type": "markdown",
   "metadata": {},
   "source": [
    "Now we want to look at videos that were watched at least once, but not recently."
   ]
  },
  {
   "cell_type": "code",
   "execution_count": 26,
   "metadata": {},
   "outputs": [
    {
     "name": "stdout",
     "output_type": "stream",
     "text": [
      "Unwatched for...\n",
      "6 months: 1726.55\n",
      "12 months: 3094.91\n",
      "18 months: 4783.67\n"
     ]
    }
   ],
   "source": [
    "from datetime import datetime\n",
    "from dateutil.relativedelta import relativedelta\n",
    "\n",
    "six_months_ago = datetime.now() - relativedelta(months=6)\n",
    "one_year_ago = datetime.now() - relativedelta(years=1)\n",
    "eighteen_mo_ago = datetime.now() - relativedelta(months=18)\n",
    "\n",
    "unwatched_for_6_months = data[data['Most Recent View Date'] > six_months_ago]\n",
    "unwatched_for_12_months = data[data['Most Recent View Date'] > one_year_ago]\n",
    "unwatched_for_18_months = data[data['Most Recent View Date'] > eighteen_mo_ago]\n",
    "\n",
    "print(\"Unwatched for...\")\n",
    "print(\"6 months:\", round(unwatched_for_6_months['hours'].sum(), 2))\n",
    "print(\"12 months:\", round(unwatched_for_12_months['hours'].sum(), 2))\n",
    "print(\"18 months:\", round(unwatched_for_18_months['hours'].sum(), 2))"
   ]
  },
  {
   "cell_type": "markdown",
   "metadata": {},
   "source": [
    "Only 5770 hours have been watched ever, but if we keep _all_ of these hours in storage, then incoming created hours will overflow our storage allotment. If we keep videos that have been watched in the last year (3095 hours) that should give us room for new content (8800 - 3095 = 5705)."
   ]
  }
 ],
 "metadata": {
  "interpreter": {
   "hash": "4e9f9b4fbfc4a52574e6d726333a75637567a485a24b731712bbe91c1196c73e"
  },
  "kernelspec": {
   "display_name": "Python 3.10.4 ('panopto-db--Mtsj8QD-py3.10')",
   "language": "python",
   "name": "python3"
  },
  "language_info": {
   "codemirror_mode": {
    "name": "ipython",
    "version": 3
   },
   "file_extension": ".py",
   "mimetype": "text/x-python",
   "name": "python",
   "nbconvert_exporter": "python",
   "pygments_lexer": "ipython3",
   "version": "3.10.4"
  },
  "orig_nbformat": 4
 },
 "nbformat": 4,
 "nbformat_minor": 2
}
