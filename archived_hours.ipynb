{
 "cells": [
  {
   "cell_type": "markdown",
   "id": "5a2ac043",
   "metadata": {},
   "source": [
    "# Archived Hours Analysis\n",
    "\n",
    "Looking at the current status of our archived hours for what we would have to do to get under the 4400 quota for our plan and not need to purchase an additional archived hours bundle. Run the \"System session storage\" report which I believe is the only one that shows whether a session is archived or not.\n",
    "\n",
    "We want to check if a session is owned by someone at CCA too so we download student and employee data to get a list of all current usernames."
   ]
  },
  {
   "cell_type": "code",
   "execution_count": null,
   "id": "36410e23",
   "metadata": {
    "vscode": {
     "languageId": "shellscript"
    }
   },
   "outputs": [],
   "source": [
    "#!/usr/bin/env bash\n",
    "gsutil cp gs://integration-success/employee_data.json .\n",
    "gsutil cp gs://integration-success/student_data.json .\n",
    "jq -r \".Report_Entry[].username\" employee_data.json > employee_usernames.txt\n",
    "jq -r \".Report_Entry[].username\" student_data.json > student_usernames.txt\n",
    "cat employee_usernames.txt student_usernames.txt | sort | uniq > usernames.txt\n",
    "# clean up files\n",
    "rm employee_data.json student_data.json employee_usernames.txt student_usernames.txt"
   ]
  },
  {
   "cell_type": "code",
   "execution_count": 1,
   "id": "31dfab5f",
   "metadata": {},
   "outputs": [
    {
     "data": {
      "text/plain": [
       "['2012332', '2026537', '2028203', '2029180', '2029995']"
      ]
     },
     "execution_count": 1,
     "metadata": {},
     "output_type": "execute_result"
    }
   ],
   "source": [
    "# read usernames line into list\n",
    "with open('usernames.txt', 'r') as fh:\n",
    "    usernames: list[str] = [line.strip() for line in fh.readlines()]\n",
    "usernames[0:5]"
   ]
  },
  {
   "cell_type": "code",
   "execution_count": 2,
   "id": "03bbd99f",
   "metadata": {},
   "outputs": [
    {
     "name": "stderr",
     "output_type": "stream",
     "text": [
      "/var/folders/2r/18pvrjyn543fp646nfn5hv2h0000gp/T/ipykernel_54906/1744267190.py:8: UserWarning: Could not infer format, so each element will be parsed individually, falling back to `dateutil`. To ensure parsing is consistent and as-expected, please specify a format.\n",
      "  df[\"Start Time\"] = pd.to_datetime(df[\"Start Time\"])\n",
      "/var/folders/2r/18pvrjyn543fp646nfn5hv2h0000gp/T/ipykernel_54906/1744267190.py:9: UserWarning: Could not infer format, so each element will be parsed individually, falling back to `dateutil`. To ensure parsing is consistent and as-expected, please specify a format.\n",
      "  df[\"Most Recent View Date\"] = pd.to_datetime(\n"
     ]
    },
    {
     "name": "stdout",
     "output_type": "stream",
     "text": [
      "<class 'pandas.core.frame.DataFrame'>\n",
      "Index: 39438 entries, f46327ca-bcba-4365-9ed5-ac12015850f2 to c62f2dbf-8f10-46ec-a06e-af6a01678cb6\n",
      "Data columns (total 27 columns):\n",
      " #   Column                           Non-Null Count  Dtype         \n",
      "---  ------                           --------------  -----         \n",
      " 0   Session Name                     39438 non-null  object        \n",
      " 1   Creator                          39438 non-null  object        \n",
      " 2   Creator ID                       39438 non-null  object        \n",
      " 3   Email                            39428 non-null  object        \n",
      " 4   Start Time                       39438 non-null  datetime64[ns]\n",
      " 5   Folder Name                      39438 non-null  object        \n",
      " 6   Folder ID                        39438 non-null  object        \n",
      " 7   Views and Downloads              39438 non-null  int64         \n",
      " 8   Unique Viewers                   39438 non-null  int64         \n",
      " 9   Minutes Delivered                39438 non-null  float64       \n",
      " 10  Average Minutes Delivered        39438 non-null  float64       \n",
      " 11  Session Length (Edited minutes)  39438 non-null  float64       \n",
      " 12  Most Recent View Date            17512 non-null  datetime64[ns]\n",
      " 13  Stream Source                    39438 non-null  object        \n",
      " 14  Archived Date                    27829 non-null  datetime64[ns]\n",
      " 15  On-Demand Hours                  39438 non-null  float64       \n",
      " 16  Archived Hours (Unedited hours)  39438 non-null  float64       \n",
      " 17  Archived                         39438 non-null  bool          \n",
      " 18  MSO - Media Originals            39438 non-null  bool          \n",
      " 19  MSO - Editor Metadata            39438 non-null  bool          \n",
      " 20  MSO - Media Quality              39438 non-null  bool          \n",
      " 21  MSO - Single Stream Viewing      39438 non-null  bool          \n",
      " 22  Root Folder (Level 0)            39429 non-null  object        \n",
      " 23  Subfolder (Level 1)              34812 non-null  object        \n",
      " 24  Subfolder (Level 2)              14582 non-null  object        \n",
      " 25  Subfolder (Level 3)              7336 non-null   object        \n",
      " 26  Subfolder (Level 4)              3498 non-null   object        \n",
      "dtypes: bool(5), datetime64[ns](3), float64(5), int64(2), object(12)\n",
      "memory usage: 7.1+ MB\n"
     ]
    }
   ],
   "source": [
    "import pandas as pd\n",
    "\n",
    "# load the data\n",
    "df = pd.read_csv(\n",
    "    \"systemsessionstorage_2020-08-08--2025-05-13.csv\", index_col=\"Session ID\"\n",
    ")\n",
    "# these three columns are datetimes\n",
    "df[\"Start Time\"] = pd.to_datetime(df[\"Start Time\"])\n",
    "df[\"Most Recent View Date\"] = pd.to_datetime(\n",
    "    df[\"Most Recent View Date\"], errors=\"coerce\"\n",
    ")\n",
    "df[\"Archived Date\"] = pd.to_datetime(\n",
    "    df[\"Archived Date\"], errors=\"coerce\"\n",
    ")\n",
    "df.info()"
   ]
  },
  {
   "cell_type": "code",
   "execution_count": 3,
   "id": "e18ed1d6",
   "metadata": {},
   "outputs": [
    {
     "data": {
      "text/html": [
       "<div>\n",
       "<style scoped>\n",
       "    .dataframe tbody tr th:only-of-type {\n",
       "        vertical-align: middle;\n",
       "    }\n",
       "\n",
       "    .dataframe tbody tr th {\n",
       "        vertical-align: top;\n",
       "    }\n",
       "\n",
       "    .dataframe thead th {\n",
       "        text-align: right;\n",
       "    }\n",
       "</style>\n",
       "<table border=\"1\" class=\"dataframe\">\n",
       "  <thead>\n",
       "    <tr style=\"text-align: right;\">\n",
       "      <th></th>\n",
       "      <th>Session Name</th>\n",
       "      <th>Creator</th>\n",
       "      <th>Creator ID</th>\n",
       "      <th>Email</th>\n",
       "      <th>Start Time</th>\n",
       "      <th>Folder Name</th>\n",
       "      <th>Folder ID</th>\n",
       "      <th>Views and Downloads</th>\n",
       "      <th>Unique Viewers</th>\n",
       "      <th>Minutes Delivered</th>\n",
       "      <th>...</th>\n",
       "      <th>MSO - Media Originals</th>\n",
       "      <th>MSO - Editor Metadata</th>\n",
       "      <th>MSO - Media Quality</th>\n",
       "      <th>MSO - Single Stream Viewing</th>\n",
       "      <th>Root Folder (Level 0)</th>\n",
       "      <th>Subfolder (Level 1)</th>\n",
       "      <th>Subfolder (Level 2)</th>\n",
       "      <th>Subfolder (Level 3)</th>\n",
       "      <th>Subfolder (Level 4)</th>\n",
       "      <th>Currently at CCA?</th>\n",
       "    </tr>\n",
       "    <tr>\n",
       "      <th>Session ID</th>\n",
       "      <th></th>\n",
       "      <th></th>\n",
       "      <th></th>\n",
       "      <th></th>\n",
       "      <th></th>\n",
       "      <th></th>\n",
       "      <th></th>\n",
       "      <th></th>\n",
       "      <th></th>\n",
       "      <th></th>\n",
       "      <th></th>\n",
       "      <th></th>\n",
       "      <th></th>\n",
       "      <th></th>\n",
       "      <th></th>\n",
       "      <th></th>\n",
       "      <th></th>\n",
       "      <th></th>\n",
       "      <th></th>\n",
       "      <th></th>\n",
       "      <th></th>\n",
       "    </tr>\n",
       "  </thead>\n",
       "  <tbody>\n",
       "    <tr>\n",
       "      <th>f46327ca-bcba-4365-9ed5-ac12015850f2</th>\n",
       "      <td>2020-08-06 Moodle Getting Started</td>\n",
       "      <td>unified\\bobbydeetz</td>\n",
       "      <td>1ed90e5b-7c4b-4ee3-8a8c-acf40183b181</td>\n",
       "      <td>bobbydeetz@cca.edu</td>\n",
       "      <td>2020-08-09 13:53:37</td>\n",
       "      <td>Moodle</td>\n",
       "      <td>af1ec353-b43a-446d-97c1-ac2700f9dd2d</td>\n",
       "      <td>10</td>\n",
       "      <td>8</td>\n",
       "      <td>128.9823</td>\n",
       "      <td>...</td>\n",
       "      <td>False</td>\n",
       "      <td>False</td>\n",
       "      <td>False</td>\n",
       "      <td>False</td>\n",
       "      <td>Libraries</td>\n",
       "      <td>Faculty Workshop Recordings</td>\n",
       "      <td>NaN</td>\n",
       "      <td>NaN</td>\n",
       "      <td>NaN</td>\n",
       "      <td>False</td>\n",
       "    </tr>\n",
       "    <tr>\n",
       "      <th>7989c38b-bc0a-4ef1-9fd5-ac1b01155441</th>\n",
       "      <td>test</td>\n",
       "      <td>unified\\tlarson</td>\n",
       "      <td>ced1bf40-ab7b-4b70-a934-ac22015b536b</td>\n",
       "      <td>tlarson@cca.edu</td>\n",
       "      <td>2020-08-18 09:49:44</td>\n",
       "      <td>tlarson_796a9a8b-ef64-4115-9e14-ac1a0139eec4</td>\n",
       "      <td>675e91b8-3ec2-465c-b519-ac1a0139ef0e</td>\n",
       "      <td>1</td>\n",
       "      <td>1</td>\n",
       "      <td>0.2302</td>\n",
       "      <td>...</td>\n",
       "      <td>False</td>\n",
       "      <td>False</td>\n",
       "      <td>False</td>\n",
       "      <td>False</td>\n",
       "      <td>Users</td>\n",
       "      <td>Archive</td>\n",
       "      <td>NaN</td>\n",
       "      <td>NaN</td>\n",
       "      <td>NaN</td>\n",
       "      <td>False</td>\n",
       "    </tr>\n",
       "    <tr>\n",
       "      <th>6b2d72b4-189e-4c56-be4d-ac1b017fb23a</th>\n",
       "      <td>Test Video recorded from Panopto</td>\n",
       "      <td>unified\\ephetteplace</td>\n",
       "      <td>661be145-86ec-4063-af5c-ac1d01714227</td>\n",
       "      <td>ephetteplace@cca.edu</td>\n",
       "      <td>2020-08-18 16:17:31</td>\n",
       "      <td>DEMO-2020-2021-Mobile-Testing: DEMO 2020 Model...</td>\n",
       "      <td>879c9e52-6861-43fc-935e-ac1b017070c0</td>\n",
       "      <td>6</td>\n",
       "      <td>4</td>\n",
       "      <td>1.0516</td>\n",
       "      <td>...</td>\n",
       "      <td>True</td>\n",
       "      <td>True</td>\n",
       "      <td>True</td>\n",
       "      <td>False</td>\n",
       "      <td>Moodle</td>\n",
       "      <td>2020FA</td>\n",
       "      <td>Metacourses</td>\n",
       "      <td>NaN</td>\n",
       "      <td>NaN</td>\n",
       "      <td>True</td>\n",
       "    </tr>\n",
       "    <tr>\n",
       "      <th>ea9c6103-a9a0-4436-a676-ac1b0180d453</th>\n",
       "      <td>openEQUELLA shared search bug</td>\n",
       "      <td>unified\\ephetteplace</td>\n",
       "      <td>661be145-86ec-4063-af5c-ac1d01714227</td>\n",
       "      <td>ephetteplace@cca.edu</td>\n",
       "      <td>2020-08-18 16:21:07</td>\n",
       "      <td>DEMO-2020-2021-Mobile-Testing: DEMO 2020 Model...</td>\n",
       "      <td>879c9e52-6861-43fc-935e-ac1b017070c0</td>\n",
       "      <td>2</td>\n",
       "      <td>2</td>\n",
       "      <td>1.0363</td>\n",
       "      <td>...</td>\n",
       "      <td>True</td>\n",
       "      <td>True</td>\n",
       "      <td>True</td>\n",
       "      <td>False</td>\n",
       "      <td>Moodle</td>\n",
       "      <td>2020FA</td>\n",
       "      <td>Metacourses</td>\n",
       "      <td>NaN</td>\n",
       "      <td>NaN</td>\n",
       "      <td>True</td>\n",
       "    </tr>\n",
       "    <tr>\n",
       "      <th>1483b3c4-6cda-44db-b412-ac1d0138e81c</th>\n",
       "      <td>2020-08-20 Int/Adv Moodle: Gradebook, Rubrics,...</td>\n",
       "      <td>unified\\bobbydeetz</td>\n",
       "      <td>1ed90e5b-7c4b-4ee3-8a8c-acf40183b181</td>\n",
       "      <td>bobbydeetz@cca.edu</td>\n",
       "      <td>2020-08-20 10:07:19</td>\n",
       "      <td>Moodle</td>\n",
       "      <td>af1ec353-b43a-446d-97c1-ac2700f9dd2d</td>\n",
       "      <td>34</td>\n",
       "      <td>24</td>\n",
       "      <td>737.4727</td>\n",
       "      <td>...</td>\n",
       "      <td>False</td>\n",
       "      <td>False</td>\n",
       "      <td>False</td>\n",
       "      <td>False</td>\n",
       "      <td>Libraries</td>\n",
       "      <td>Faculty Workshop Recordings</td>\n",
       "      <td>NaN</td>\n",
       "      <td>NaN</td>\n",
       "      <td>NaN</td>\n",
       "      <td>False</td>\n",
       "    </tr>\n",
       "  </tbody>\n",
       "</table>\n",
       "<p>5 rows × 28 columns</p>\n",
       "</div>"
      ],
      "text/plain": [
       "                                                                           Session Name               Creator                            Creator ID                 Email          Start Time                                        Folder Name                             Folder ID  Views and Downloads  Unique Viewers  Minutes Delivered  Average Minutes Delivered  Session Length (Edited minutes) Most Recent View Date    Stream Source       Archived Date  On-Demand Hours  Archived Hours (Unedited hours)  Archived  MSO - Media Originals  MSO - Editor Metadata  MSO - Media Quality  MSO - Single Stream Viewing Root Folder (Level 0)          Subfolder (Level 1) Subfolder (Level 2) Subfolder (Level 3) Subfolder (Level 4)  Currently at CCA?\n",
       "Session ID                                                                                                                                                                                                                                                                                                                                                                                                                                                                                                                                                                                                                                                                                                                                                         \n",
       "f46327ca-bcba-4365-9ed5-ac12015850f2                  2020-08-06 Moodle Getting Started    unified\\bobbydeetz  1ed90e5b-7c4b-4ee3-8a8c-acf40183b181    bobbydeetz@cca.edu 2020-08-09 13:53:37                                             Moodle  af1ec353-b43a-446d-97c1-ac2700f9dd2d                   10               8           128.9823                    12.8982                          95.8153   2021-01-28 15:26:12          Web API 2022-07-31 08:05:52         0.000000                         1.651230      True                  False                  False                False                        False             Libraries  Faculty Workshop Recordings                 NaN                 NaN                 NaN              False\n",
       "7989c38b-bc0a-4ef1-9fd5-ac1b01155441                                               test       unified\\tlarson  ced1bf40-ab7b-4b70-a934-ac22015b536b       tlarson@cca.edu 2020-08-18 09:49:44       tlarson_796a9a8b-ef64-4115-9e14-ac1a0139eec4  675e91b8-3ec2-465c-b519-ac1a0139ef0e                    1               1             0.2302                     0.2302                           0.3100   2022-06-03 23:25:54  Panopto for Mac 2023-08-02 08:06:55         0.000000                         0.005166      True                  False                  False                False                        False                 Users                      Archive                 NaN                 NaN                 NaN              False\n",
       "6b2d72b4-189e-4c56-be4d-ac1b017fb23a                   Test Video recorded from Panopto  unified\\ephetteplace  661be145-86ec-4063-af5c-ac1d01714227  ephetteplace@cca.edu 2020-08-18 16:17:31  DEMO-2020-2021-Mobile-Testing: DEMO 2020 Model...  879c9e52-6861-43fc-935e-ac1b017070c0                    6               4             1.0516                     0.1753                           0.2177   2024-04-12 16:40:01  Panopto for Mac                 NaT         0.003629                         0.000000     False                   True                   True                 True                        False                Moodle                       2020FA         Metacourses                 NaN                 NaN               True\n",
       "ea9c6103-a9a0-4436-a676-ac1b0180d453                      openEQUELLA shared search bug  unified\\ephetteplace  661be145-86ec-4063-af5c-ac1d01714227  ephetteplace@cca.edu 2020-08-18 16:21:07  DEMO-2020-2021-Mobile-Testing: DEMO 2020 Model...  879c9e52-6861-43fc-935e-ac1b017070c0                    2               2             1.0363                     0.5181                           0.9507   2020-08-19 21:33:37          Web API                 NaT         0.015844                         0.000000     False                   True                   True                 True                        False                Moodle                       2020FA         Metacourses                 NaN                 NaN               True\n",
       "1483b3c4-6cda-44db-b412-ac1d0138e81c  2020-08-20 Int/Adv Moodle: Gradebook, Rubrics,...    unified\\bobbydeetz  1ed90e5b-7c4b-4ee3-8a8c-acf40183b181    bobbydeetz@cca.edu 2020-08-20 10:07:19                                             Moodle  af1ec353-b43a-446d-97c1-ac2700f9dd2d                   34              24           737.4727                    21.6904                          95.7243   2022-01-14 21:18:54             Zoom 2022-08-01 17:53:01         0.000000                         1.595404      True                  False                  False                False                        False             Libraries  Faculty Workshop Recordings                 NaN                 NaN                 NaN              False"
      ]
     },
     "execution_count": 3,
     "metadata": {},
     "output_type": "execute_result"
    }
   ],
   "source": [
    "# new column: whether Creator minus \"unified/\" is in the usernames list\n",
    "df[\"Currently at CCA?\"] = df[\"Creator\"].str.replace(\"unified\\\\\", \"\").isin(usernames)\n",
    "df.head()"
   ]
  },
  {
   "cell_type": "code",
   "execution_count": 4,
   "id": "10eeda78",
   "metadata": {},
   "outputs": [
    {
     "name": "stdout",
     "output_type": "stream",
     "text": [
      "Total hours: 20953\n",
      "Archived hours: 16280\n",
      "Archived hours owned by users no longer at CCA: 2455\n"
     ]
    }
   ],
   "source": [
    "# total hours\n",
    "\n",
    "print('Total hours:', round(df[\"Session Length (Edited minutes)\"].sum() / 60))\n",
    "# archived hours\n",
    "print('Archived hours:', round(df[\"Archived Hours (Unedited hours)\"].sum()))\n",
    "# archived hours owned by users no longer at CCA\n",
    "hrs = df[df[\"Currently at CCA?\"] == False][\"Archived Hours (Unedited hours)\"].sum()\n",
    "print('Archived hours owned by users no longer at CCA:', round(hrs))"
   ]
  },
  {
   "cell_type": "markdown",
   "id": "3bfd5468",
   "metadata": {},
   "source": [
    "We have 8800 stored hours and 4400 archived so total hours has to get well below 13200 and archived has to get below 4400. We need to give ourselves breathing room here, too."
   ]
  },
  {
   "cell_type": "code",
   "execution_count": 5,
   "id": "74f4d2c6",
   "metadata": {},
   "outputs": [
    {
     "name": "stdout",
     "output_type": "stream",
     "text": [
      "Unwatched archived hours: 12484\n"
     ]
    }
   ],
   "source": [
    "# unwatched archived hours\n",
    "unwatched = df[df[\"Minutes Delivered\"] == 0]['Archived Hours (Unedited hours)'].sum()\n",
    "print('Unwatched archived hours:', round(unwatched))"
   ]
  },
  {
   "cell_type": "code",
   "execution_count": 6,
   "id": "2f034078",
   "metadata": {},
   "outputs": [
    {
     "name": "stdout",
     "output_type": "stream",
     "text": [
      "Archived hours over four years old: 11233\n"
     ]
    }
   ],
   "source": [
    "# archived hours over four years old\n",
    "# there is probably substantial overlap between this and the unwatched hours\n",
    "import datetime\n",
    "four_years_ago = datetime.datetime.now() - datetime.timedelta(days=4 * 365)\n",
    "over_four_years_old = df[df[\"Start Time\"] < four_years_ago]['Archived Hours (Unedited hours)'].sum()\n",
    "print('Archived hours over four years old:', round(over_four_years_old))"
   ]
  },
  {
   "cell_type": "code",
   "execution_count": 12,
   "id": "eae910a2",
   "metadata": {},
   "outputs": [
    {
     "data": {
      "text/plain": [
       "9941"
      ]
     },
     "execution_count": 12,
     "metadata": {},
     "output_type": "execute_result"
    }
   ],
   "source": [
    "# Unwatched, archived hours over four years old in Personal folders (under Users hierarchy)\n",
    "personal_over_four_years_old = df[(df[\"Start Time\"] < four_years_ago) &\n",
    "    (df[\"Root Folder (Level 0)\"] == \"Users\")\n",
    "][\"Archived Hours (Unedited hours)\"].sum()\n",
    "round(personal_over_four_years_old)"
   ]
  },
  {
   "cell_type": "code",
   "execution_count": 14,
   "id": "4b240735",
   "metadata": {},
   "outputs": [
    {
     "data": {
      "text/plain": [
       "1193"
      ]
     },
     "execution_count": 14,
     "metadata": {},
     "output_type": "execute_result"
    }
   ],
   "source": [
    "\n",
    "# Unwatched, archived hours over four years old in Course folders (under Moodle hierarchy)\n",
    "course_over_four_years_old = df[(df[\"Start Time\"] < four_years_ago) &\n",
    "    (df[\"Root Folder (Level 0)\"] == \"Moodle\")\n",
    "][\"Archived Hours (Unedited hours)\"].sum()\n",
    "round(course_over_four_years_old)"
   ]
  },
  {
   "cell_type": "code",
   "execution_count": 15,
   "id": "364384ca",
   "metadata": {},
   "outputs": [
    {
     "name": "stdout",
     "output_type": "stream",
     "text": [
      "99\n"
     ]
    }
   ],
   "source": [
    "# All other unwatched, archived hours over four years old\n",
    "print(round(over_four_years_old - personal_over_four_years_old - course_over_four_years_old))\n"
   ]
  }
 ],
 "metadata": {
  "kernelspec": {
   "display_name": ".venv",
   "language": "python",
   "name": "python3"
  },
  "language_info": {
   "codemirror_mode": {
    "name": "ipython",
    "version": 3
   },
   "file_extension": ".py",
   "mimetype": "text/x-python",
   "name": "python",
   "nbconvert_exporter": "python",
   "pygments_lexer": "ipython3",
   "version": "3.10.16"
  }
 },
 "nbformat": 4,
 "nbformat_minor": 5
}
